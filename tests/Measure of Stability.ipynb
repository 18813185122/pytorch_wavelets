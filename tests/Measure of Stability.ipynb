{
 "cells": [
  {
   "cell_type": "markdown",
   "metadata": {
    "toc": "true"
   },
   "source": [
    "# Table of Contents\n",
    " <p><div class=\"lev1 toc-item\"><a href=\"#Create-the-two-ScatterNets\" data-toc-modified-id=\"Create-the-two-ScatterNets-1\"><span class=\"toc-item-num\">1&nbsp;&nbsp;</span>Create the two ScatterNets</a></div><div class=\"lev1 toc-item\"><a href=\"#Stability-to-noise\" data-toc-modified-id=\"Stability-to-noise-2\"><span class=\"toc-item-num\">2&nbsp;&nbsp;</span>Stability to noise</a></div><div class=\"lev1 toc-item\"><a href=\"#Stability-to-Shifts\" data-toc-modified-id=\"Stability-to-Shifts-3\"><span class=\"toc-item-num\">3&nbsp;&nbsp;</span>Stability to Shifts</a></div><div class=\"lev1 toc-item\"><a href=\"#Stability-to-Deformations\" data-toc-modified-id=\"Stability-to-Deformations-4\"><span class=\"toc-item-num\">4&nbsp;&nbsp;</span>Stability to Deformations</a></div>"
   ]
  },
  {
   "cell_type": "markdown",
   "metadata": {},
   "source": [
    "This notebook quantifies how stable the DTCWT and Morlet based scatternets are to noise, shifts, and deformation"
   ]
  },
  {
   "cell_type": "code",
   "execution_count": 49,
   "metadata": {
    "ExecuteTime": {
     "end_time": "2020-01-11T18:41:14.870467Z",
     "start_time": "2020-01-11T18:41:14.865691Z"
    }
   },
   "outputs": [],
   "source": [
    "from kymatio import Scattering2D\n",
    "import torch\n",
    "from pytorch_wavelets import ScatLayer, ScatLayerj2\n",
    "import numpy, elasticdeform"
   ]
  },
  {
   "cell_type": "code",
   "execution_count": 4,
   "metadata": {
    "ExecuteTime": {
     "end_time": "2020-01-11T17:27:34.578990Z",
     "start_time": "2020-01-11T17:27:34.060695Z"
    }
   },
   "outputs": [],
   "source": [
    "%matplotlib notebook\n",
    "import matplotlib.pyplot as plt\n",
    "import numpy as np"
   ]
  },
  {
   "cell_type": "code",
   "execution_count": 146,
   "metadata": {
    "ExecuteTime": {
     "end_time": "2020-01-11T19:05:56.060965Z",
     "start_time": "2020-01-11T19:05:56.055472Z"
    }
   },
   "outputs": [],
   "source": [
    "import dtcwt_gainlayer.data.tiny_imagenet as ti"
   ]
  },
  {
   "cell_type": "code",
   "execution_count": 147,
   "metadata": {
    "ExecuteTime": {
     "end_time": "2020-01-11T19:06:28.780332Z",
     "start_time": "2020-01-11T19:06:28.470468Z"
    }
   },
   "outputs": [
    {
     "name": "stdout",
     "output_type": "stream",
     "text": [
      "| loaded tiny imagenet"
     ]
    }
   ],
   "source": [
    "trainloader, testloader = ti.get_data(64, data_dir='/scratch/share/Tiny_ImageNet/', val_only=True)"
   ]
  },
  {
   "cell_type": "code",
   "execution_count": 155,
   "metadata": {
    "ExecuteTime": {
     "end_time": "2020-01-11T19:08:49.891244Z",
     "start_time": "2020-01-11T19:08:49.112475Z"
    }
   },
   "outputs": [
    {
     "name": "stdout",
     "output_type": "stream",
     "text": [
      "torch.Size([1280, 3, 64, 64])\n"
     ]
    }
   ],
   "source": [
    "# Get some image data. Let us use some tiny_imagenet images\n",
    "data = []\n",
    "for i, x in enumerate(testloader):\n",
    "    if i == 10:\n",
    "        break\n",
    "    data.append(x[0])\n",
    "data = torch.cat(data, dim=0)\n",
    "print(data.shape)"
   ]
  },
  {
   "cell_type": "code",
   "execution_count": 157,
   "metadata": {
    "ExecuteTime": {
     "end_time": "2020-01-11T19:09:29.543985Z",
     "start_time": "2020-01-11T19:09:29.536972Z"
    }
   },
   "outputs": [],
   "source": [
    "class Scat2D(torch.nn.Module):\n",
    "    \"\"\" A wrapper around KyMatIO's ScatterNet\"\"\"\n",
    "    def __init__(self):\n",
    "        super().__init__()\n",
    "        self.scat = Scattering2D(J=2, shape=(64, 64), L=6).cuda()\n",
    "        \n",
    "    def forward(self, x):\n",
    "        x = self.scat(x)\n",
    "        return x.view(x.shape[0], -1, x.shape[3], x.shape[4])"
   ]
  },
  {
   "cell_type": "markdown",
   "metadata": {},
   "source": [
    "# Create the two ScatterNets\n",
    "For the DTCWT, we test over some of the options"
   ]
  },
  {
   "cell_type": "code",
   "execution_count": 159,
   "metadata": {
    "ExecuteTime": {
     "end_time": "2020-01-11T19:09:47.787824Z",
     "start_time": "2020-01-11T19:09:46.998800Z"
    }
   },
   "outputs": [],
   "source": [
    "scat_morlet = Scat2D()\n",
    "scatA = torch.nn.Sequential(ScatLayer(magbias=0.0, biort='near_sym_b', mode='symmetric'), ScatLayer(magbias=0.0, biort='near_sym_b', mode='symmetric')).cuda()\n",
    "scatB = torch.nn.Sequential(ScatLayer(magbias=0.0, biort='near_sym_a', mode='zero'), ScatLayer(magbias=0.0, biort='near_sym_a', mode='zero')).cuda()\n",
    "scatC = ScatLayerj2(biort='near_sym_b', qshift='qshift_b').cuda()\n",
    "x = data"
   ]
  },
  {
   "cell_type": "code",
   "execution_count": 160,
   "metadata": {
    "ExecuteTime": {
     "end_time": "2020-01-11T19:09:49.470272Z",
     "start_time": "2020-01-11T19:09:48.138049Z"
    }
   },
   "outputs": [],
   "source": [
    "Sx = scat_morlet(x.cuda())\n",
    "Dax = scatA(x.cuda())\n",
    "Dbx = scatB(x.cuda())\n",
    "Dcx = scatC(x.cuda())"
   ]
  },
  {
   "cell_type": "markdown",
   "metadata": {},
   "source": [
    "# Stability to noise"
   ]
  },
  {
   "cell_type": "code",
   "execution_count": 188,
   "metadata": {
    "ExecuteTime": {
     "end_time": "2020-01-11T19:19:40.372059Z",
     "start_time": "2020-01-11T19:19:38.824292Z"
    }
   },
   "outputs": [],
   "source": [
    "n = 0.7*torch.randn_like(x)\n",
    "Sxn = scat_morlet((x+n).cuda())\n",
    "Daxn = scatA((x+n).cuda())\n",
    "Dbxn = scatB((x+n).cuda())\n",
    "Dcxn = scatC((x+n).cuda())"
   ]
  },
  {
   "cell_type": "code",
   "execution_count": 189,
   "metadata": {
    "ExecuteTime": {
     "end_time": "2020-01-11T19:19:41.146005Z",
     "start_time": "2020-01-11T19:19:41.061960Z"
    }
   },
   "outputs": [
    {
     "name": "stdout",
     "output_type": "stream",
     "text": [
      "For an additive noise with σ=0.7 (38% the input energy), we have:\n",
      "|x-x'|^2 is 0.490\n",
      "|Sx-Sx'|^2 for Morlet Scat is 0.003\n",
      "|Sx-Sx'|^2 for DTCWT Scat A is 0.030\n",
      "|Sx-Sx'|^2 for DTCWT Scat B is 0.029\n",
      "|Sx-Sx'|^2 for DTCWT Scat C is 0.046\n"
     ]
    }
   ],
   "source": [
    "print('For an additive noise with σ=0.7 ({:.0f}% the input energy), we have:'.format(100*(n**2).sum()/(x**2).sum()))\n",
    "print(\"|x-x'|^2 is {:.3f}\".format(torch.mean((n**2))))\n",
    "print(\"|Sx-Sx'|^2 for Morlet Scat is {:.3f}\".format(torch.mean((Sx-Sxn)**2)))\n",
    "print(\"|Sx-Sx'|^2 for DTCWT Scat A is {:.3f}\".format(torch.mean((Dax-Daxn)**2)))\n",
    "print(\"|Sx-Sx'|^2 for DTCWT Scat B is {:.3f}\".format(torch.mean((Dbx-Dbxn)**2)))\n",
    "print(\"|Sx-Sx'|^2 for DTCWT Scat C is {:.3f}\".format(torch.mean((Dcx-Dcxn)**2)))"
   ]
  },
  {
   "cell_type": "markdown",
   "metadata": {},
   "source": [
    "# Stability to Shifts"
   ]
  },
  {
   "cell_type": "code",
   "execution_count": 174,
   "metadata": {
    "ExecuteTime": {
     "end_time": "2020-01-11T19:13:53.773625Z",
     "start_time": "2020-01-11T19:13:51.802726Z"
    }
   },
   "outputs": [],
   "source": [
    "y = torch.roll(x, (2, 2), dims=(2,3))\n",
    "Sy = scat_morlet(y.cuda())\n",
    "Day = scatA(y.cuda())\n",
    "Dby = scatB(y.cuda())\n",
    "Dcy = scatC(y.cuda())"
   ]
  },
  {
   "cell_type": "code",
   "execution_count": 178,
   "metadata": {
    "ExecuteTime": {
     "end_time": "2020-01-11T19:15:42.652877Z",
     "start_time": "2020-01-11T19:15:42.566858Z"
    }
   },
   "outputs": [
    {
     "name": "stdout",
     "output_type": "stream",
     "text": [
      "For a shift of 2 pixels right and 2 down, we have:\n",
      "|x-x'|^2 is 0.740\n",
      "|Sx-Sx'|^2 for Morlet Scat is 0.004\n",
      "|Sx-Sx'|^2 for DTCWT Scat A is 0.009\n",
      "|Sx-Sx'|^2 for DTCWT Scat B is 0.009\n",
      "|Sx-Sx'|^2 for DTCWT Scat C is 0.030\n"
     ]
    }
   ],
   "source": [
    "print('For a shift of 2 pixels right and 2 down, we have:')\n",
    "print(\"|x-x'|^2 is {:.3f}\".format(torch.mean((y-x)**2)))\n",
    "print(\"|Sx-Sx'|^2 for Morlet Scat is {:.3f}\".format(torch.mean((Sx-Sy)**2)))\n",
    "print(\"|Sx-Sx'|^2 for DTCWT Scat A is {:.3f}\".format(torch.mean((Dax-Day)**2)))\n",
    "print(\"|Sx-Sx'|^2 for DTCWT Scat B is {:.3f}\".format(torch.mean((Dbx-Dby)**2)))\n",
    "print(\"|Sx-Sx'|^2 for DTCWT Scat C is {:.3f}\".format(torch.mean((Dcx-Dcy)**2)))"
   ]
  },
  {
   "cell_type": "markdown",
   "metadata": {},
   "source": [
    "# Stability to Deformations"
   ]
  },
  {
   "cell_type": "code",
   "execution_count": 165,
   "metadata": {
    "ExecuteTime": {
     "end_time": "2020-01-11T19:10:46.701267Z",
     "start_time": "2020-01-11T19:10:39.796236Z"
    }
   },
   "outputs": [],
   "source": [
    "z = torch.tensor(elasticdeform.deform_random_grid(x.numpy(), sigma=5, axis=(2,3)))\n",
    "Sz = scat_morlet(z.cuda())\n",
    "Daz = scatA(z.cuda())\n",
    "Dbz = scatB(z.cuda())\n",
    "Dcz = scatC(z.cuda())"
   ]
  },
  {
   "cell_type": "code",
   "execution_count": 177,
   "metadata": {
    "ExecuteTime": {
     "end_time": "2020-01-11T19:15:12.594533Z",
     "start_time": "2020-01-11T19:15:12.519603Z"
    }
   },
   "outputs": [
    {
     "name": "stdout",
     "output_type": "stream",
     "text": [
      "For a random deformation with σ=5 we have:\n",
      "|x-x'|^2 is 0.698\n",
      "|Sx-Sx'|^2 for Morlet Scat is 0.004\n",
      "|Sx-Sx'|^2 for DTCWT Scat A is 0.011\n",
      "|Sx-Sx'|^2 for DTCWT Scat B is 0.011\n",
      "|Sx-Sx'|^2 for DTCWT Scat C is 0.036\n"
     ]
    }
   ],
   "source": [
    "print('For a random deformation with σ=5 we have:')\n",
    "print(\"|x-x'|^2 is {:.3f}\".format(torch.mean((z-x)**2)))\n",
    "print(\"|Sx-Sx'|^2 for Morlet Scat is {:.3f}\".format(torch.mean((Sz-Sx)**2)))\n",
    "print(\"|Sx-Sx'|^2 for DTCWT Scat A is {:.3f}\".format(torch.mean((Daz-Dax)**2)))\n",
    "print(\"|Sx-Sx'|^2 for DTCWT Scat B is {:.3f}\".format(torch.mean((Dbz-Dbx)**2)))\n",
    "print(\"|Sx-Sx'|^2 for DTCWT Scat C is {:.3f}\".format(torch.mean((Dcz-Dcx)**2)))"
   ]
  }
 ],
 "metadata": {
  "kernelspec": {
   "display_name": "Python 3",
   "language": "python",
   "name": "python3"
  },
  "language_info": {
   "codemirror_mode": {
    "name": "ipython",
    "version": 3
   },
   "file_extension": ".py",
   "mimetype": "text/x-python",
   "name": "python",
   "nbconvert_exporter": "python",
   "pygments_lexer": "ipython3",
   "version": "3.6.1"
  },
  "toc": {
   "colors": {
    "hover_highlight": "#DAA520",
    "navigate_num": "#000000",
    "navigate_text": "#333333",
    "running_highlight": "#FF0000",
    "selected_highlight": "#FFD700",
    "sidebar_border": "#EEEEEE",
    "wrapper_background": "#FFFFFF"
   },
   "moveMenuLeft": true,
   "nav_menu": {
    "height": "53.3333px",
    "width": "250px"
   },
   "navigate_menu": true,
   "number_sections": true,
   "sideBar": false,
   "threshold": 4,
   "toc_cell": true,
   "toc_section_display": "block",
   "toc_window_display": false,
   "widenNotebook": false
  }
 },
 "nbformat": 4,
 "nbformat_minor": 2
}
